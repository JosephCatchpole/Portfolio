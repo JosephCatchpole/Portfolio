{
 "cells": [
  {
   "attachments": {},
   "cell_type": "markdown",
   "metadata": {},
   "source": [
    "# FUNCTIONS\n",
    "- by convention function names should begin with a lowercase letter and in multiword\n",
    "names underscores should separate each word"
   ]
  },
  {
   "attachments": {},
   "cell_type": "markdown",
   "metadata": {},
   "source": [
    "- The Style Guide for Python Code says that the first line in a function’s block should be a\n",
    "docstring that briefly explains the function’s purpose: <br><b>\n",
    "\"\"\"Calculate the square of number.\"\"\" <br></b>\n",
    "To provide more detail, you can use a multiline docstring—the style guide recommends\n",
    "starting with a brief explanation, followed by a blank line and the additional details"
   ]
  },
  {
   "attachments": {},
   "cell_type": "markdown",
   "metadata": {},
   "source": [
    "- Executing a return statement without an expression terminates the function and\n",
    "implicitly returns the value None to the caller"
   ]
  },
  {
   "attachments": {},
   "cell_type": "markdown",
   "metadata": {},
   "source": [
    "### What happens when you call a function \n",
    " the function-call stack supports the function call/return mechanism. Eventually, each function must return program control to the point at which it was called. For\n",
    "each function call, the interpreter pushes an entry called a stack frame (or an activation\n",
    "record) onto the stack. This entry contains the return location that the called function\n",
    "needs so it can return control to its caller. When the function finishes executing, the interpreter pops the function’s stack frame, and control transfers to the return location that was\n",
    "popped.\n",
    "The top stack frame always contains the information the currently executing function\n",
    "needs to return control to its caller. If before a function returns it makes a call to another\n",
    "function, the interpreter pushes a stack frame for that function call onto the stack. Thus,\n",
    "the return address required by the newly called function to return to its caller is now on\n",
    "top of the stack.\n",
    "#### Local Variables and Stack Frames\n",
    "Most functions have one or more parameters and possibly local variables that need to:\n",
    "• exist while the function is executing,\n",
    "• remain active if the function makes calls to other functions, and\n",
    "• “go away” when the function returns to its caller.\n",
    "A called function’s stack frame is the perfect place to reserve memory for the function’s\n",
    "local variables. That stack frame is pushed when the function is called and exists while the\n",
    "function is executing. When that function returns, it no longer needs its local variables, so\n",
    "its stack frame is popped from the stack, and its local variables no longer exist.\n",
    "#### Stack Overflow\n",
    "Of course, the amount of memory in a computer is finite, so only a certain amount of\n",
    "memory can be used to store stack frames on the function-call stack. If the function-call\n",
    "stack runs out of memory as a result of too many function calls, a fatal error known as stack\n",
    "overflow occurs.5 Stack overflows actually are rare unless you have a logic error that keeps\n",
    "calling functions that never return. \n"
   ]
  },
  {
   "attachments": {},
   "cell_type": "markdown",
   "metadata": {},
   "source": [
    "### Accessing a Function’s Docstring via IPython’s Help Mechanism "
   ]
  },
  {
   "cell_type": "code",
   "execution_count": 2,
   "metadata": {},
   "outputs": [
    {
     "name": "stdout",
     "output_type": "stream",
     "text": [
      "\u001b[1;31mSignature:\u001b[0m \u001b[0msquare\u001b[0m\u001b[1;33m(\u001b[0m\u001b[0mnumber\u001b[0m\u001b[1;33m)\u001b[0m\u001b[1;33m\u001b[0m\u001b[1;33m\u001b[0m\u001b[0m\n",
      "\u001b[1;31mDocstring:\u001b[0m Calculate the square of number.\n",
      "\u001b[1;31mFile:\u001b[0m      c:\\users\\jcatchpo\\appdata\\local\\temp\\ipykernel_22588\\3254243412.py\n",
      "\u001b[1;31mType:\u001b[0m      function"
     ]
    }
   ],
   "source": [
    "def square(number):\n",
    " \"\"\"Calculate the square of number.\"\"\"\n",
    " return number ** 2\n",
    "square?"
   ]
  },
  {
   "cell_type": "code",
   "execution_count": 4,
   "metadata": {},
   "outputs": [
    {
     "name": "stdout",
     "output_type": "stream",
     "text": [
      "\u001b[1;31mSignature:\u001b[0m \u001b[0msquare\u001b[0m\u001b[1;33m(\u001b[0m\u001b[0mnumber\u001b[0m\u001b[1;33m)\u001b[0m\u001b[1;33m\u001b[0m\u001b[1;33m\u001b[0m\u001b[0m\n",
      "\u001b[1;31mSource:\u001b[0m   \n",
      "\u001b[1;32mdef\u001b[0m \u001b[0msquare\u001b[0m\u001b[1;33m(\u001b[0m\u001b[0mnumber\u001b[0m\u001b[1;33m)\u001b[0m\u001b[1;33m:\u001b[0m\u001b[1;33m\n",
      "\u001b[0m \u001b[1;34m\"\"\"Calculate the square of number.\"\"\"\u001b[0m\u001b[1;33m\n",
      "\u001b[0m \u001b[1;32mreturn\u001b[0m \u001b[0mnumber\u001b[0m \u001b[1;33m**\u001b[0m \u001b[1;36m2\u001b[0m\u001b[1;33m\u001b[0m\u001b[1;33m\u001b[0m\u001b[0m\n",
      "\u001b[1;31mFile:\u001b[0m      c:\\users\\jcatchpo\\appdata\\local\\temp\\ipykernel_22588\\3254243412.py\n",
      "\u001b[1;31mType:\u001b[0m      function"
     ]
    }
   ],
   "source": [
    "square??"
   ]
  },
  {
   "cell_type": "code",
   "execution_count": 6,
   "metadata": {},
   "outputs": [
    {
     "name": "stdout",
     "output_type": "stream",
     "text": [
      "\u001b[1;31mDocstring:\u001b[0m\n",
      "max(iterable, *[, default=obj, key=func]) -> value\n",
      "max(arg1, arg2, *args, *[, key=func]) -> value\n",
      "\n",
      "With a single iterable argument, return its biggest item. The\n",
      "default keyword-only argument specifies an object to return if\n",
      "the provided iterable is empty.\n",
      "With two or more arguments, return the largest argument.\n",
      "\u001b[1;31mType:\u001b[0m      builtin_function_or_method"
     ]
    }
   ],
   "source": [
    "max??"
   ]
  },
  {
   "attachments": {},
   "cell_type": "markdown",
   "metadata": {},
   "source": [
    "## Arbitrary Argument Lists\n",
    "The * before the parameter name tells\n",
    "Python to pack any remaining arguments into a tuple that’s passed to the args parameter.<br>\n",
    "the *args parameter must be the rightmost parameter. "
   ]
  },
  {
   "cell_type": "code",
   "execution_count": 7,
   "metadata": {},
   "outputs": [
    {
     "data": {
      "text/plain": [
       "3.5"
      ]
     },
     "execution_count": 7,
     "metadata": {},
     "output_type": "execute_result"
    }
   ],
   "source": [
    "def average(*args):\n",
    "    return sum(args) / len(args)\n",
    "average(1,2,3,4,5,6)"
   ]
  },
  {
   "attachments": {},
   "cell_type": "markdown",
   "metadata": {},
   "source": [
    "You can unpack a tuple’s, list’s or other iterable’s elements to pass them as individual function arguments. The * operator, when applied to an iterable argument in a function call,\n",
    "unpacks its elements."
   ]
  },
  {
   "cell_type": "code",
   "execution_count": 9,
   "metadata": {},
   "outputs": [
    {
     "data": {
      "text/plain": [
       "20.666666666666668"
      ]
     },
     "execution_count": 9,
     "metadata": {},
     "output_type": "execute_result"
    }
   ],
   "source": [
    "grades = [18,20,24]\n",
    "average(*grades)"
   ]
  },
  {
   "cell_type": "code",
   "execution_count": null,
   "metadata": {},
   "outputs": [],
   "source": []
  }
 ],
 "metadata": {
  "kernelspec": {
   "display_name": "Python 3",
   "language": "python",
   "name": "python3"
  },
  "language_info": {
   "codemirror_mode": {
    "name": "ipython",
    "version": 3
   },
   "file_extension": ".py",
   "mimetype": "text/x-python",
   "name": "python",
   "nbconvert_exporter": "python",
   "pygments_lexer": "ipython3",
   "version": "3.10.11"
  },
  "orig_nbformat": 4
 },
 "nbformat": 4,
 "nbformat_minor": 2
}
