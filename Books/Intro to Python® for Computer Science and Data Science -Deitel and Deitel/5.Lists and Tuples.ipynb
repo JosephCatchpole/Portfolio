{
 "cells": [
  {
   "attachments": {},
   "cell_type": "markdown",
   "metadata": {},
   "source": [
    "# Lists and Tuples\n",
    "### enumerate\n",
    "This function receives an iterable and creates an iterator that, for each\n",
    "element, returns a tuple containing the element’s index and value."
   ]
  },
  {
   "cell_type": "code",
   "execution_count": 3,
   "metadata": {},
   "outputs": [
    {
     "name": "stdout",
     "output_type": "stream",
     "text": [
      "[(0, 1), (1, 2), (2, 'NAME')]\n"
     ]
    }
   ],
   "source": [
    "l = [1,2,'NAME']\n",
    "print(list(enumerate(l)))"
   ]
  },
  {
   "attachments": {},
   "cell_type": "markdown",
   "metadata": {},
   "source": [
    "### List Method index\n",
    "List method index takes as an argument a search key—the value to locate in the list—then\n",
    "searches through the list from index 0 and returns the index of the first element that\n",
    "matches the search key"
   ]
  },
  {
   "cell_type": "code",
   "execution_count": 4,
   "metadata": {},
   "outputs": [
    {
     "data": {
      "text/plain": [
       "3"
      ]
     },
     "execution_count": 4,
     "metadata": {},
     "output_type": "execute_result"
    }
   ],
   "source": [
    "l = [1,2,3,4,3,2,1,3,4,5]\n",
    "l.index(4)"
   ]
  },
  {
   "cell_type": "code",
   "execution_count": 9,
   "metadata": {},
   "outputs": [
    {
     "name": "stdout",
     "output_type": "stream",
     "text": [
      "8\n"
     ]
    },
    {
     "ename": "ValueError",
     "evalue": "4 is not in list",
     "output_type": "error",
     "traceback": [
      "\u001b[1;31m---------------------------------------------------------------------------\u001b[0m",
      "\u001b[1;31mValueError\u001b[0m                                Traceback (most recent call last)",
      "Cell \u001b[1;32mIn[9], line 3\u001b[0m\n\u001b[0;32m      1\u001b[0m \u001b[39m#Using method index’s optional arguments, you can search a subset of a list’s elements.\u001b[39;00m\n\u001b[0;32m      2\u001b[0m \u001b[39mprint\u001b[39m(l\u001b[39m.\u001b[39mindex(\u001b[39m4\u001b[39m,\u001b[39m5\u001b[39m))\n\u001b[1;32m----> 3\u001b[0m \u001b[39mprint\u001b[39m(l\u001b[39m.\u001b[39;49mindex(\u001b[39m4\u001b[39;49m,\u001b[39m5\u001b[39;49m,\u001b[39m7\u001b[39;49m) \u001b[39mif\u001b[39;00m \u001b[39m4\u001b[39m \u001b[39min\u001b[39;00m l \u001b[39melse\u001b[39;00m \u001b[39m0\u001b[39m)\n",
      "\u001b[1;31mValueError\u001b[0m: 4 is not in list"
     ]
    }
   ],
   "source": [
    "#Using method index’s optional arguments, you can search a subset of a list’s elements.\n",
    "print(l.index(4,5))\n",
    "print(l.index(4,5,7))"
   ]
  }
 ],
 "metadata": {
  "kernelspec": {
   "display_name": "Python 3",
   "language": "python",
   "name": "python3"
  },
  "language_info": {
   "codemirror_mode": {
    "name": "ipython",
    "version": 3
   },
   "file_extension": ".py",
   "mimetype": "text/x-python",
   "name": "python",
   "nbconvert_exporter": "python",
   "pygments_lexer": "ipython3",
   "version": "3.10.11"
  },
  "orig_nbformat": 4
 },
 "nbformat": 4,
 "nbformat_minor": 2
}
