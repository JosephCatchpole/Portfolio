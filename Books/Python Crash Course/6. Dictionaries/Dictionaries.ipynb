{
 "cells": [
  {
   "cell_type": "markdown",
   "metadata": {},
   "source": [
    "# Python Crash Course Dictionaries"
   ]
  },
  {
   "cell_type": "code",
   "execution_count": 2,
   "metadata": {},
   "outputs": [
    {
     "name": "stdout",
     "output_type": "stream",
     "text": [
      "green\n"
     ]
    }
   ],
   "source": [
    "# Simple dictionary definition\n",
    "alien_0 ={'color':'green','points':5}\n",
    "print(alien_0['color'])"
   ]
  },
  {
   "cell_type": "code",
   "execution_count": 3,
   "metadata": {},
   "outputs": [
    {
     "name": "stdout",
     "output_type": "stream",
     "text": [
      "{'color': 'green', 'points': 5, 'x_position': 0, 'y_position': 25}\n"
     ]
    }
   ],
   "source": [
    "# adding key-value pairs\n",
    "alien_0['x_position'] = 0\n",
    "alien_0['y_position'] = 25\n",
    "print(alien_0)"
   ]
  },
  {
   "cell_type": "code",
   "execution_count": 4,
   "metadata": {},
   "outputs": [
    {
     "name": "stdout",
     "output_type": "stream",
     "text": [
      "{'color': 'green', 'x_position': 0, 'y_position': 25}\n"
     ]
    }
   ],
   "source": [
    "# remove key-value pairs\n",
    "del alien_0['points']\n",
    "print(alien_0)"
   ]
  },
  {
   "cell_type": "code",
   "execution_count": 5,
   "metadata": {},
   "outputs": [
    {
     "name": "stdout",
     "output_type": "stream",
     "text": [
      "default\n"
     ]
    }
   ],
   "source": [
    "# using get to get a value of a key\n",
    "print(alien_0.get('points','default'))\n"
   ]
  },
  {
   "cell_type": "code",
   "execution_count": 8,
   "metadata": {},
   "outputs": [
    {
     "name": "stdout",
     "output_type": "stream",
     "text": [
      "\n",
      "Key: color\n",
      "Value: green\n",
      "\n",
      "Key: x_position\n",
      "Value: 0\n",
      "\n",
      "Key: y_position\n",
      "Value: 25\n"
     ]
    }
   ],
   "source": [
    "# looping through all key-value pairs\n",
    "for key,value in alien_0.items():\n",
    "    print(f'\\nKey: {key}')\n",
    "    print(f'Value: {value}')"
   ]
  },
  {
   "cell_type": "code",
   "execution_count": 9,
   "metadata": {},
   "outputs": [
    {
     "name": "stdout",
     "output_type": "stream",
     "text": [
      "color\n",
      "x_position\n",
      "y_position\n"
     ]
    }
   ],
   "source": [
    "# looping through all keys\n",
    "for key in alien_0.keys():\n",
    "    print(key)"
   ]
  },
  {
   "cell_type": "code",
   "execution_count": 10,
   "metadata": {},
   "outputs": [
    {
     "name": "stdout",
     "output_type": "stream",
     "text": [
      "green\n",
      "0\n",
      "25\n"
     ]
    }
   ],
   "source": [
    "# looping through all values in a dictionary\n",
    "for v in alien_0.values():\n",
    "    print(v)"
   ]
  },
  {
   "cell_type": "code",
   "execution_count": 12,
   "metadata": {},
   "outputs": [
    {
     "name": "stdout",
     "output_type": "stream",
     "text": [
      "{'color': 'green', 'points': 5}\n",
      "{'color': 'yellow', 'points': 10}\n",
      "{'color': 'red', 'points': 25}\n",
      "10\n"
     ]
    }
   ],
   "source": [
    "# list of dictionaries\n",
    "alien_0 = {'color':'green', 'points': 5}\n",
    "alien_1 = {'color':'yellow', 'points': 10}\n",
    "alien_2 = {'color':'red', 'points': 25}\n",
    "\n",
    "aliens = [alien_0,alien_1,alien_2]\n",
    "for alien in aliens:\n",
    "    print(alien)\n",
    "\n",
    "print(aliens[1]['points'])"
   ]
  },
  {
   "cell_type": "code",
   "execution_count": 13,
   "metadata": {},
   "outputs": [
    {
     "name": "stdout",
     "output_type": "stream",
     "text": [
      "\n",
      "Joseph' favourite languages are :\n",
      "Python\n",
      "C++\n",
      "\n",
      "Joy' favourite languages are :\n",
      "Python\n",
      "Java\n",
      "\n",
      "Adriana' favourite languages are :\n",
      "Java\n",
      "C++\n"
     ]
    }
   ],
   "source": [
    "# list in dictionaries\n",
    "favourite_languages ={\n",
    "    'joseph':['python','C++'],\n",
    "    'joy':['python','Java'],\n",
    "    'adriana':['Java','C++']\n",
    "}\n",
    "\n",
    "for name, languages in favourite_languages.items():\n",
    "    print(f\"\\n{name.title()}' favourite languages are :\")\n",
    "    for language in languages:\n",
    "        print(language.title())"
   ]
  },
  {
   "cell_type": "code",
   "execution_count": null,
   "metadata": {},
   "outputs": [],
   "source": []
  }
 ],
 "metadata": {
  "kernelspec": {
   "display_name": "Python 3",
   "language": "python",
   "name": "python3"
  },
  "language_info": {
   "codemirror_mode": {
    "name": "ipython",
    "version": 3
   },
   "file_extension": ".py",
   "mimetype": "text/x-python",
   "name": "python",
   "nbconvert_exporter": "python",
   "pygments_lexer": "ipython3",
   "version": "3.10.11"
  },
  "orig_nbformat": 4
 },
 "nbformat": 4,
 "nbformat_minor": 2
}
