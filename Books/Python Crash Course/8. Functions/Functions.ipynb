{
 "cells": [
  {
   "attachments": {},
   "cell_type": "markdown",
   "metadata": {},
   "source": [
    "# Python Crash Course Function"
   ]
  },
  {
   "cell_type": "code",
   "execution_count": 1,
   "metadata": {},
   "outputs": [
    {
     "name": "stdout",
     "output_type": "stream",
     "text": [
      "sauce\n",
      "2\n",
      "3\n"
     ]
    }
   ],
   "source": [
    "# passing an arbitrary number of arguments \n",
    "def printN(*param):     # *creates a tuple with the passed objects\n",
    "    for p in param:\n",
    "        print(p)\n",
    "printN('sauce',2,3)"
   ]
  },
  {
   "cell_type": "code",
   "execution_count": null,
   "metadata": {},
   "outputs": [],
   "source": [
    "# passing copies of mutable objects\n",
    "def function(l):\n",
    "    print (l)\n",
    "function(l.copy())\n",
    "function(l[:])"
   ]
  },
  {
   "cell_type": "markdown",
   "metadata": {},
   "source": [
    "Python passes by assignment : immutable data is passed by vaule and mutable data is passed by reference"
   ]
  },
  {
   "cell_type": "code",
   "execution_count": 2,
   "metadata": {},
   "outputs": [
    {
     "name": "stdout",
     "output_type": "stream",
     "text": [
      "\n",
      "Making a 16-inch pizza with the following toppings:\n",
      "- tomato\n",
      "- cheese\n",
      "- pepperoni\n"
     ]
    }
   ],
   "source": [
    "# modules\n",
    "import pizza\n",
    "pizza.make_pizza(16,'tomato','cheese','pepperoni')"
   ]
  }
 ],
 "metadata": {
  "kernelspec": {
   "display_name": "Python 3",
   "language": "python",
   "name": "python3"
  },
  "language_info": {
   "codemirror_mode": {
    "name": "ipython",
    "version": 3
   },
   "file_extension": ".py",
   "mimetype": "text/x-python",
   "name": "python",
   "nbconvert_exporter": "python",
   "pygments_lexer": "ipython3",
   "version": "3.10.11"
  },
  "orig_nbformat": 4
 },
 "nbformat": 4,
 "nbformat_minor": 2
}
