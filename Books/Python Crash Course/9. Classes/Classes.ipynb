{
 "cells": [
  {
   "attachments": {},
   "cell_type": "markdown",
   "metadata": {},
   "source": [
    "# Python Crash Course Classes"
   ]
  },
  {
   "cell_type": "code",
   "execution_count": 9,
   "metadata": {},
   "outputs": [
    {
     "name": "stdout",
     "output_type": "stream",
     "text": [
      "poppi rolled over\n",
      "3 is 3 years old and can not become younger in time, set an age greater than 3\n"
     ]
    }
   ],
   "source": [
    "class Dog:\n",
    "    def __init__(self, name, age):\n",
    "        self.name = name\n",
    "        self.age = age\n",
    "    \n",
    "    def sit(self):\n",
    "        print(f\"{self.name} is now sitting\")\n",
    "    \n",
    "    def roll_over(self):\n",
    "        print(f\"{self.name} rolled over\")\n",
    "\n",
    "    def update_age(self, age):\n",
    "        if age>= self.age:\n",
    "            self.age = age\n",
    "        else:\n",
    "            print(f'{self.age} is {self.age} years old and can not become younger in time, set an age greater than {self.age}')\n",
    "\n",
    "my_dog = Dog('poppi',3)\n",
    "my_dog.roll_over()\n",
    "my_dog.update_age(2)"
   ]
  },
  {
   "cell_type": "code",
   "execution_count": 43,
   "metadata": {},
   "outputs": [
    {
     "name": "stdout",
     "output_type": "stream",
     "text": [
      "Make:\tAudi\n",
      "Model:\tA4\n",
      "Year:\t2023\n",
      "This car is electric, Battery Capacity :\t3000\n"
     ]
    }
   ],
   "source": [
    "#istance of class as attribute\n",
    "class Battery:\n",
    "    def __init__(self, battery_size = 75):\n",
    "        self.battery_size = battery_size\n",
    "    \n",
    "    def __str__(self):\n",
    "        return f'Battery Capacity :\\t{self.battery_size}'\n",
    "\n",
    "#inheritance\n",
    "#methods overriding\n",
    "# __str__ method (equivalent to toString())\n",
    "class Car:\n",
    "    def __init__(self,make,model,year):\n",
    "        self.make = make\n",
    "        self.model = model\n",
    "        self.year = year\n",
    "\n",
    "    def fill_gas_tank(self):\n",
    "        return \"tank filled\"\n",
    "\n",
    "    def __str__(self):\n",
    "        return f\"Make:\\t{self.make}\\nModel:\\t{self.model}\\nYear:\\t{self.year}\\n\"\n",
    "    \n",
    "class ElectricCar(Car):\n",
    "    def __init__(self,make,model,year,capacity):\n",
    "        super().__init__(make,model,year)\n",
    "        self.battery = Battery(capacity)\n",
    "        \n",
    "    def fill_gas_tank(self):\n",
    "        pass                # Meaning no operation\n",
    "\n",
    "    def __str__(self):\n",
    "        str = f'{super().__str__()}This car is electric, {self.battery.__str__()}'\n",
    "        return str \n",
    "\n",
    "\n",
    "\n",
    "father = Car('Audi','A4',2023)\n",
    "child = ElectricCar('Audi','A4',2023,3000)\n",
    "father.fill_gas_tank()\n",
    "child.fill_gas_tank()\n",
    "print(child)"
   ]
  },
  {
   "cell_type": "code",
   "execution_count": null,
   "metadata": {},
   "outputs": [],
   "source": [
    "\n"
   ]
  }
 ],
 "metadata": {
  "kernelspec": {
   "display_name": "Python 3",
   "language": "python",
   "name": "python3"
  },
  "language_info": {
   "codemirror_mode": {
    "name": "ipython",
    "version": 3
   },
   "file_extension": ".py",
   "mimetype": "text/x-python",
   "name": "python",
   "nbconvert_exporter": "python",
   "pygments_lexer": "ipython3",
   "version": "3.10.11"
  },
  "orig_nbformat": 4
 },
 "nbformat": 4,
 "nbformat_minor": 2
}
