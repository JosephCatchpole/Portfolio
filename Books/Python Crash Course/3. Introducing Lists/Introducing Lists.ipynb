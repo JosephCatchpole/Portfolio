{
 "cells": [
  {
   "cell_type": "markdown",
   "metadata": {},
   "source": [
    "# Python Crash Course Introducing Lists"
   ]
  },
  {
   "cell_type": "code",
   "execution_count": 13,
   "metadata": {},
   "outputs": [
    {
     "name": "stdout",
     "output_type": "stream",
     "text": [
      "['ducati', 'suzuki', 'yamaha', 'honda']\n"
     ]
    }
   ],
   "source": [
    "#adding and inserting into list\n",
    "motorcyles =['suzuki', 'yamaha']\n",
    "motorcyles.append('honda')\n",
    "motorcyles.insert(0,'ducati')\n",
    "print(motorcyles)"
   ]
  },
  {
   "cell_type": "code",
   "execution_count": 14,
   "metadata": {},
   "outputs": [
    {
     "name": "stdout",
     "output_type": "stream",
     "text": [
      "['suzuki', 'yamaha', 'honda']\n",
      "honda\n",
      "suzuki\n"
     ]
    }
   ],
   "source": [
    "#removing from list\n",
    "del motorcyles[0]\n",
    "print(motorcyles)\n",
    "print(motorcyles.pop())\n",
    "print(motorcyles.pop(0))    #popping by position\n",
    "motorcyles.remove('yamaha')\n"
   ]
  },
  {
   "cell_type": "code",
   "execution_count": 18,
   "metadata": {},
   "outputs": [
    {
     "name": "stdout",
     "output_type": "stream",
     "text": [
      "['audi', 'bmw', 'subaru', 'toyota']\n",
      "['toyota', 'subaru', 'bmw', 'audi']\n",
      "['audi', 'bmw', 'subaru', 'toyota']\n",
      "['audi', 'bmw', 'subaru', 'toyota']\n"
     ]
    }
   ],
   "source": [
    "#organizing lists\n",
    "cars = ['bmw', 'audi', 'toyota', 'subaru']\n",
    "cars.sort()             # permanent sorting\n",
    "print(cars)\n",
    "cars.sort(reverse=True) # permanent sorting\n",
    "print(cars)\n",
    "print(sorted(cars))     # temporary sorting\n",
    "cars.reverse()          # permanent sorting just in reverse order, not alphabetical\n",
    "print(cars)"
   ]
  },
  {
   "cell_type": "code",
   "execution_count": null,
   "metadata": {},
   "outputs": [],
   "source": []
  },
  {
   "cell_type": "code",
   "execution_count": null,
   "metadata": {},
   "outputs": [],
   "source": []
  }
 ],
 "metadata": {
  "kernelspec": {
   "display_name": "Python 3",
   "language": "python",
   "name": "python3"
  },
  "language_info": {
   "codemirror_mode": {
    "name": "ipython",
    "version": 3
   },
   "file_extension": ".py",
   "mimetype": "text/x-python",
   "name": "python",
   "nbconvert_exporter": "python",
   "pygments_lexer": "ipython3",
   "version": "3.10.11"
  },
  "orig_nbformat": 4
 },
 "nbformat": 4,
 "nbformat_minor": 2
}
